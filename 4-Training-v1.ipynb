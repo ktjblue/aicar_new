{
 "cells": [
  {
   "cell_type": "code",
   "execution_count": 1,
   "metadata": {},
   "outputs": [
    {
     "name": "stdout",
     "output_type": "stream",
     "text": [
      "Python version :  3.6.8 (default, Oct  7 2019, 12:59:55) \n",
      "[GCC 8.3.0]\n",
      "TensorFlow version :  1.15.0\n",
      "Keras version :  2.3.1\n"
     ]
    },
    {
     "name": "stderr",
     "output_type": "stream",
     "text": [
      "Using TensorFlow backend.\n"
     ]
    }
   ],
   "source": [
    "#import warnings\n",
    "#warnings.simplefilter(action='ignore', category=FutureWarning)\n",
    "import sys\n",
    "import tensorflow as tf\n",
    "import keras\n",
    "from keras.models import Sequential\n",
    "from keras.layers import Dense, Dropout, Flatten\n",
    "from keras.layers.convolutional import Conv2D, MaxPooling2D\n",
    "import numpy as np\n",
    "import config as cfg\n",
    "import csv\n",
    "import time\n",
    "import math\n",
    "import random\n",
    "import cv2\n",
    "from datetime import datetime\n",
    "from tensorflow.keras import backend as K\n",
    "#from IPython.display import SVG\n",
    "#from keras.utils.vis_utils import model_to_dot\n",
    "np.random.seed(7)\n",
    "\n",
    "print('Python version : ', sys.version)\n",
    "print('TensorFlow version : ', tf.__version__)\n",
    "print('Keras version : ', keras.__version__)"
   ]
  },
  {
   "cell_type": "code",
   "execution_count": 2,
   "metadata": {},
   "outputs": [
    {
     "name": "stdout",
     "output_type": "stream",
     "text": [
      "# images :  40251\n",
      "# training images :  32200\n",
      "# validation images :  4025\n",
      "# test images :  4026\n"
     ]
    }
   ],
   "source": [
    "# 데이터 불러오기\n",
    "\n",
    "xs = []\n",
    "ys = []\n",
    "\n",
    "#read data.csv\n",
    "increased_path = '../dataset/20200512/3-increased'\n",
    "with open(increased_path + '/data.csv', newline='') as csvfile:\n",
    "    spamreader = csv.reader(csvfile, delimiter=',', quotechar='|')\n",
    "    for row in spamreader:\n",
    "        # print(row[0], row[1])\n",
    "        xs.append(increased_path + '/' + row[0])\n",
    "        ys.append(int(row[1]))\n",
    "\n",
    "        \n",
    "increased_path = '../dataset/20200513/3-increased'\n",
    "with open(increased_path + '/data.csv', newline='') as csvfile:\n",
    "    spamreader = csv.reader(csvfile, delimiter=',', quotechar='|')\n",
    "    for row in spamreader:\n",
    "        # print(row[0], row[1])\n",
    "        xs.append(increased_path + '/' + row[0])\n",
    "        ys.append(int(row[1]))\n",
    "        \n",
    "#read data.csv\n",
    "increased_path = '../dataset/training-data-shortcut/3-increased'\n",
    "with open(increased_path + '/data.csv', newline='') as csvfile:\n",
    "    spamreader = csv.reader(csvfile, delimiter=',', quotechar='|')\n",
    "    for row in spamreader:\n",
    "        # print(row[0], row[1])\n",
    "        xs.append(increased_path + '/' + row[0])\n",
    "        ys.append(int(row[1]))\n",
    "\n",
    "        \n",
    "increased_path = '../dataset/training-data-stop/3-increased'\n",
    "with open(increased_path + '/data.csv', newline='') as csvfile:\n",
    "    spamreader = csv.reader(csvfile, delimiter=',', quotechar='|')\n",
    "    for row in spamreader:\n",
    "        # print(row[0], row[1])\n",
    "        xs.append(increased_path + '/' + row[0])\n",
    "        ys.append(int(row[1]))\n",
    "\n",
    "\n",
    "#get number of images\n",
    "num_images = len(xs)\n",
    "num_train_images = math.floor(num_images * 0.8)\n",
    "num_val_images = math.floor(num_images * 0.1)\n",
    "num_test_images = num_images - num_train_images - num_val_images\n",
    "\n",
    "print('# images : ', num_images)\n",
    "print('# training images : ', num_train_images)\n",
    "print('# validation images : ', num_val_images)\n",
    "print('# test images : ', num_test_images)\n",
    "\n",
    "\n",
    "#shuffle list of images\n",
    "c = list(zip(xs, ys))\n",
    "random.seed(datetime.now())\n",
    "random.shuffle(c)\n",
    "random.seed(random.random())\n",
    "random.shuffle(c)\n",
    "xs, ys = zip(*c)"
   ]
  },
  {
   "cell_type": "code",
   "execution_count": 3,
   "metadata": {},
   "outputs": [],
   "source": [
    "# 파일명을 이용해서 실제 이미지 불러오기\n",
    "x_train_images = []\n",
    "y_train_labels = []\n",
    "x_validation_images = []\n",
    "y_validation_labels = []\n",
    "x_test_images = []\n",
    "y_test_labels = []\n",
    "\n",
    "for i in range(num_images):\n",
    "    filepath = xs[i]\n",
    "    if i < num_train_images:  # training data\n",
    "        colorIMG = cv2.imread(filepath)[cfg.modelheight:]\n",
    "        grayIMG = cv2.cvtColor(colorIMG, cv2.COLOR_BGR2GRAY)\n",
    "        x_train_images.append(cv2.resize(grayIMG, dsize=(cfg.final_width, cfg.final_height)) / 255.0)\n",
    "        y_train_labels.append([ys[i]])\n",
    "    elif (i >= num_train_images) and (i < num_train_images + num_val_images):  # validation data\n",
    "        colorIMG = cv2.imread(filepath)[cfg.modelheight:]\n",
    "        grayIMG = cv2.cvtColor(colorIMG, cv2.COLOR_BGR2GRAY)\n",
    "        x_validation_images.append(cv2.resize(grayIMG, dsize=(cfg.final_width, cfg.final_height)) / 255.0)\n",
    "        y_validation_labels.append([ys[i]])\n",
    "    else:  # test data\n",
    "        colorIMG = cv2.imread(filepath)[cfg.modelheight:]\n",
    "        grayIMG = cv2.cvtColor(colorIMG, cv2.COLOR_BGR2GRAY)\n",
    "        x_test_images.append(cv2.resize(grayIMG, dsize=(cfg.final_width, cfg.final_height)) / 255.0)\n",
    "        y_test_labels.append([ys[i]])"
   ]
  },
  {
   "cell_type": "code",
   "execution_count": 4,
   "metadata": {},
   "outputs": [
    {
     "name": "stdout",
     "output_type": "stream",
     "text": [
      "(32200, 66, 100)\n",
      "(32200, 66, 100)\n"
     ]
    },
    {
     "data": {
      "image/png": "[encoded data removed]",
      "text/plain": [
       "<Figure size 432x288 with 1 Axes>"
      ]
     },
     "metadata": {
      "needs_background": "light"
     },
     "output_type": "display_data"
    },
    {
     "name": "stdout",
     "output_type": "stream",
     "text": [
      "(4025, 66, 100)\n"
     ]
    },
    {
     "data": {
      "image/png": "[encoded data removed]",
      "text/plain": [
       "<Figure size 432x288 with 1 Axes>"
      ]
     },
     "metadata": {
      "needs_background": "light"
     },
     "output_type": "display_data"
    },
    {
     "name": "stdout",
     "output_type": "stream",
     "text": [
      "(4026, 66, 100)\n"
     ]
    },
    {
     "data": {
      "image/png": "[encoded data removed]",
      "text/plain": [
       "<Figure size 432x288 with 1 Axes>"
      ]
     },
     "metadata": {
      "needs_background": "light"
     },
     "output_type": "display_data"
    }
   ],
   "source": [
    "from matplotlib import pyplot as plt\n",
    "%matplotlib inline\n",
    "\n",
    "num_classes = cfg.NUM_KEYS\n",
    "\n",
    "#x_train_images = tf.reshape(x_train_images, [len(x_train_images), cfg.final_height, cfg.final_width, 1])\n",
    "x_train_images = np.array(x_train_images)\n",
    "print(x_train_images.shape)\n",
    "x_train_images.reshape(x_train_images.shape[0], cfg.final_height, cfg.final_width, 1)\n",
    "print(x_train_images.shape)\n",
    "plt.imshow(x_train_images[0])\n",
    "plt.show()\n",
    "\n",
    "#x_validation_images = tf.reshape(x_validation_images, [len(x_validation_images), cfg.final_height, cfg.final_width, 1])\n",
    "x_validation_images = np.array(x_validation_images)\n",
    "x_validation_images.reshape(x_validation_images.shape[0], cfg.final_height, cfg.final_width, 1)\n",
    "print(x_validation_images.shape)\n",
    "plt.imshow(x_validation_images[0])\n",
    "plt.show()\n",
    "\n",
    "#x_test_images = tf.reshape(x_test_images, [len(x_test_images), cfg.final_height, cfg.final_width, 1])\n",
    "x_test_images = np.array(x_test_images)\n",
    "x_test_images.reshape(x_test_images.shape[0], cfg.final_height, cfg.final_width, 1)\n",
    "print(x_test_images.shape)\n",
    "plt.imshow(x_test_images[0])\n",
    "plt.show()\n",
    "\n",
    "y_train_labels = keras.utils.to_categorical(y_train_labels, num_classes)\n",
    "y_validation_labels = keras.utils.to_categorical(y_validation_labels, num_classes)\n",
    "y_test_labels = keras.utils.to_categorical(y_test_labels, num_classes)"
   ]
  },
  {
   "cell_type": "code",
   "execution_count": 5,
   "metadata": {},
   "outputs": [
    {
     "name": "stdout",
     "output_type": "stream",
     "text": [
      "Before :  (32200, 66, 100)\n",
      "After :  (32200, 66, 100, 1)\n",
      "Before :  (4025, 66, 100)\n",
      "After :  (4025, 66, 100, 1)\n",
      "Before :  (4026, 66, 100)\n",
      "After :  (4026, 66, 100, 1)\n"
     ]
    }
   ],
   "source": [
    "#from matplotlib import pyplot as plt\n",
    "#%matplotlib inline\n",
    "\n",
    "# 마지막에 color_channel 차원이 추가 되어야 함\n",
    "\n",
    "print('Before : ', x_train_images.shape)\n",
    "x_train_images = np.expand_dims(x_train_images, axis=-1)\n",
    "print('After : ', x_train_images.shape)\n",
    "\n",
    "print('Before : ', x_validation_images.shape)\n",
    "x_validation_images = np.expand_dims(x_validation_images, axis=-1)\n",
    "print('After : ', x_validation_images.shape)\n",
    "\n",
    "print('Before : ', x_test_images.shape)\n",
    "x_test_images = np.expand_dims(x_test_images, axis=-1)\n",
    "print('After : ', x_test_images.shape)"
   ]
  },
  {
   "cell_type": "code",
   "execution_count": 6,
   "metadata": {},
   "outputs": [
    {
     "name": "stdout",
     "output_type": "stream",
     "text": [
      "40251\n",
      "\n",
      "(32200, 66, 100, 1)\n",
      "(4025, 66, 100, 1)\n",
      "(4026, 66, 100, 1)\n",
      "\n",
      "32200\n",
      "32200\n",
      "4025\n",
      "4025\n",
      "4026\n",
      "4026\n",
      "\n",
      "(66, 100, 1)\n",
      "(6,)\n",
      "(66, 100, 1)\n",
      "(6,)\n",
      "(66, 100, 1)\n",
      "(6,)\n"
     ]
    }
   ],
   "source": [
    "print(num_images)  # 전체 데이터 수\n",
    "print()\n",
    "\n",
    "print(x_train_images.shape)\n",
    "print(x_validation_images.shape)\n",
    "print(x_test_images.shape)\n",
    "print()\n",
    "\n",
    "print(len(x_train_images))  # 학습용 이미지 수\n",
    "print(len(y_train_labels))  # 학습용 레이블 수\n",
    "print(len(x_validation_images))  # val 이미지 수\n",
    "print(len(y_validation_labels))  # val 레이블 수\n",
    "print(len(x_test_images))  # 테스트용 이미지 수\n",
    "print(len(y_test_labels))  # 테스트용 레이블 수\n",
    "print()\n",
    "\n",
    "print(x_train_images[0].shape)  # 학습용 이미지 한개의 차원\n",
    "print(y_train_labels[0].shape)  # 학습용 레이블 한개의 차원\n",
    "print(x_validation_images[0].shape)  # val 이미지 한개의 차원\n",
    "print(y_validation_labels[0].shape)  # val 레이블 한개의 차원\n",
    "print(x_test_images[0].shape)  # 테스트용 이미지 한개의 차원\n",
    "print(y_test_labels[0].shape)  # 테스트용 레이블 한개의 차원\n",
    "\n",
    "#input_shape = (cfg.final_height, cfg.final_width, 1)\n",
    "color_channels = 1\n",
    "input_shape = (cfg.final_height, cfg.final_width, color_channels)\n",
    "\n",
    "if K.image_data_format() == \"channels_first\":\n",
    "    assert False  # input_shape = (color_channels, height, width)"
   ]
  },
  {
   "cell_type": "code",
   "execution_count": 7,
   "metadata": {},
   "outputs": [
    {
     "name": "stdout",
     "output_type": "stream",
     "text": [
      "WARNING:tensorflow:From /usr/local/lib/python3.6/dist-packages/tensorflow_core/python/ops/resource_variable_ops.py:1630: calling BaseResourceVariable.__init__ (from tensorflow.python.ops.resource_variable_ops) with constraint is deprecated and will be removed in a future version.\n",
      "Instructions for updating:\n",
      "If using Keras pass *_constraint arguments to layers.\n",
      "WARNING:tensorflow:From /usr/local/lib/python3.6/dist-packages/keras/backend/tensorflow_backend.py:4070: The name tf.nn.max_pool is deprecated. Please use tf.nn.max_pool2d instead.\n",
      "\n",
      "Model: \"sequential_1\"\n",
      "_________________________________________________________________\n",
      "Layer (type)                 Output Shape              Param #   \n",
      "=================================================================\n",
      "conv2d_1 (Conv2D)            (None, 66, 100, 32)       832       \n",
      "_________________________________________________________________\n",
      "max_pooling2d_1 (MaxPooling2 (None, 33, 50, 32)        0         \n",
      "_________________________________________________________________\n",
      "conv2d_2 (Conv2D)            (None, 33, 50, 64)        8256      \n",
      "_________________________________________________________________\n",
      "max_pooling2d_2 (MaxPooling2 (None, 16, 25, 64)        0         \n",
      "_________________________________________________________________\n",
      "dropout_1 (Dropout)          (None, 16, 25, 64)        0         \n",
      "_________________________________________________________________\n",
      "flatten_1 (Flatten)          (None, 25600)             0         \n",
      "_________________________________________________________________\n",
      "dense_1 (Dense)              (None, 1000)              25601000  \n",
      "_________________________________________________________________\n",
      "dropout_2 (Dropout)          (None, 1000)              0         \n",
      "_________________________________________________________________\n",
      "dense_2 (Dense)              (None, 6)                 6006      \n",
      "=================================================================\n",
      "Total params: 25,616,094\n",
      "Trainable params: 25,616,094\n",
      "Non-trainable params: 0\n",
      "_________________________________________________________________\n"
     ]
    }
   ],
   "source": [
    "model = Sequential()\n",
    "model.add(Conv2D(32, kernel_size=(5, 5), strides=(1, 1), padding='same',\n",
    "                 activation='relu',\n",
    "                 input_shape=input_shape))\n",
    "#model.add(MaxPooling2D(pool_size=(2, 2), strides=(2, 2)))\n",
    "model.add(MaxPooling2D())\n",
    "model.add(Conv2D(64, (2, 2), activation='relu', padding='same'))\n",
    "#model.add(MaxPooling2D(pool_size=(2, 2)))\n",
    "model.add(MaxPooling2D())\n",
    "model.add(Dropout(0.25))\n",
    "model.add(Flatten())\n",
    "model.add(Dense(1000, activation='relu'))\n",
    "model.add(Dropout(0.5))\n",
    "model.add(Dense(num_classes, activation='softmax'))\n",
    "model.summary()"
   ]
  },
  {
   "cell_type": "code",
   "execution_count": 8,
   "metadata": {},
   "outputs": [
    {
     "name": "stdout",
     "output_type": "stream",
     "text": [
      "WARNING:tensorflow:From /usr/local/lib/python3.6/dist-packages/keras/backend/tensorflow_backend.py:422: The name tf.global_variables is deprecated. Please use tf.compat.v1.global_variables instead.\n",
      "\n",
      "Train on 32200 samples, validate on 4025 samples\n",
      "Epoch 1/30\n",
      "32200/32200 [==============================] - 9s 286us/step - loss: 0.5575 - accuracy: 0.8181 - val_loss: 0.2399 - val_accuracy: 0.9073\n",
      "Epoch 2/30\n",
      "32200/32200 [==============================] - 7s 227us/step - loss: 0.2438 - accuracy: 0.9071 - val_loss: 0.1958 - val_accuracy: 0.9230\n",
      "Epoch 3/30\n",
      "32200/32200 [==============================] - 7s 229us/step - loss: 0.2065 - accuracy: 0.9193 - val_loss: 0.1873 - val_accuracy: 0.9210\n",
      "Epoch 4/30\n",
      "32200/32200 [==============================] - 7s 226us/step - loss: 0.1842 - accuracy: 0.9271 - val_loss: 0.1715 - val_accuracy: 0.9314\n",
      "Epoch 5/30\n",
      "32200/32200 [==============================] - 7s 223us/step - loss: 0.1673 - accuracy: 0.9321 - val_loss: 0.1560 - val_accuracy: 0.9347\n",
      "Epoch 6/30\n",
      "32200/32200 [==============================] - 7s 227us/step - loss: 0.1528 - accuracy: 0.9377 - val_loss: 0.1482 - val_accuracy: 0.9419\n",
      "Epoch 7/30\n",
      "32200/32200 [==============================] - 7s 225us/step - loss: 0.1445 - accuracy: 0.9413 - val_loss: 0.1413 - val_accuracy: 0.9424\n",
      "Epoch 8/30\n",
      "32200/32200 [==============================] - 7s 227us/step - loss: 0.1323 - accuracy: 0.9461 - val_loss: 0.1385 - val_accuracy: 0.9463\n",
      "Epoch 9/30\n",
      "32200/32200 [==============================] - 7s 228us/step - loss: 0.1234 - accuracy: 0.9505 - val_loss: 0.1250 - val_accuracy: 0.9481\n",
      "Epoch 10/30\n",
      "32200/32200 [==============================] - 7s 224us/step - loss: 0.1159 - accuracy: 0.9519 - val_loss: 0.1197 - val_accuracy: 0.9573\n",
      "Epoch 11/30\n",
      "32200/32200 [==============================] - 7s 227us/step - loss: 0.1062 - accuracy: 0.9556 - val_loss: 0.1305 - val_accuracy: 0.9481\n",
      "Epoch 12/30\n",
      "32200/32200 [==============================] - 7s 228us/step - loss: 0.0987 - accuracy: 0.9600 - val_loss: 0.1116 - val_accuracy: 0.9617\n",
      "Epoch 13/30\n",
      "32200/32200 [==============================] - 7s 224us/step - loss: 0.0925 - accuracy: 0.9624 - val_loss: 0.1145 - val_accuracy: 0.9583\n",
      "Epoch 14/30\n",
      "32200/32200 [==============================] - 7s 227us/step - loss: 0.0834 - accuracy: 0.9661 - val_loss: 0.1097 - val_accuracy: 0.9610\n",
      "Epoch 15/30\n",
      "32200/32200 [==============================] - 7s 224us/step - loss: 0.0792 - accuracy: 0.9678 - val_loss: 0.1152 - val_accuracy: 0.9588\n",
      "Epoch 16/30\n",
      "32200/32200 [==============================] - 7s 227us/step - loss: 0.0739 - accuracy: 0.9712 - val_loss: 0.1120 - val_accuracy: 0.9583\n",
      "Epoch 17/30\n",
      "32200/32200 [==============================] - 7s 226us/step - loss: 0.0691 - accuracy: 0.9731 - val_loss: 0.0989 - val_accuracy: 0.9680\n",
      "Epoch 18/30\n",
      "32200/32200 [==============================] - 7s 228us/step - loss: 0.0648 - accuracy: 0.9738 - val_loss: 0.1057 - val_accuracy: 0.9635\n",
      "Epoch 19/30\n",
      "32200/32200 [==============================] - 7s 231us/step - loss: 0.0603 - accuracy: 0.9765 - val_loss: 0.0973 - val_accuracy: 0.9677\n",
      "Epoch 20/30\n",
      "32200/32200 [==============================] - 7s 229us/step - loss: 0.0541 - accuracy: 0.9791 - val_loss: 0.1031 - val_accuracy: 0.9694\n",
      "Epoch 21/30\n",
      "32200/32200 [==============================] - 7s 224us/step - loss: 0.0531 - accuracy: 0.9793 - val_loss: 0.1148 - val_accuracy: 0.9657\n",
      "Epoch 22/30\n",
      "32200/32200 [==============================] - 7s 225us/step - loss: 0.0493 - accuracy: 0.9802 - val_loss: 0.0998 - val_accuracy: 0.9677\n",
      "Epoch 23/30\n",
      "32200/32200 [==============================] - 7s 226us/step - loss: 0.0471 - accuracy: 0.9821 - val_loss: 0.1009 - val_accuracy: 0.9714\n",
      "Epoch 24/30\n",
      "32200/32200 [==============================] - 7s 225us/step - loss: 0.0421 - accuracy: 0.9834 - val_loss: 0.0962 - val_accuracy: 0.9712\n",
      "Epoch 25/30\n",
      "32200/32200 [==============================] - 7s 223us/step - loss: 0.0382 - accuracy: 0.9863 - val_loss: 0.0977 - val_accuracy: 0.9724\n",
      "Epoch 26/30\n",
      "32200/32200 [==============================] - 7s 226us/step - loss: 0.0420 - accuracy: 0.9839 - val_loss: 0.1050 - val_accuracy: 0.9675\n",
      "Epoch 27/30\n",
      "32200/32200 [==============================] - 7s 227us/step - loss: 0.0366 - accuracy: 0.9860 - val_loss: 0.0982 - val_accuracy: 0.9766\n",
      "Epoch 28/30\n",
      "32200/32200 [==============================] - 7s 226us/step - loss: 0.0347 - accuracy: 0.9872 - val_loss: 0.1199 - val_accuracy: 0.9699\n",
      "Epoch 29/30\n",
      "32200/32200 [==============================] - 7s 226us/step - loss: 0.0333 - accuracy: 0.9868 - val_loss: 0.0966 - val_accuracy: 0.9734\n",
      "Epoch 30/30\n",
      "32200/32200 [==============================] - 7s 227us/step - loss: 0.0337 - accuracy: 0.9872 - val_loss: 0.0987 - val_accuracy: 0.9757\n"
     ]
    }
   ],
   "source": [
    "batch_size = 128\n",
    "#epochs = 10\n",
    "epochs = 30\n",
    "\n",
    "model.compile(loss='categorical_crossentropy', optimizer='adam', metrics=['accuracy'])\n",
    "hist = model.fit(x_train_images, y_train_labels,\n",
    "                 batch_size=batch_size,\n",
    "                 epochs=epochs,\n",
    "                 verbose=1, \n",
    "                 validation_data=(x_validation_images, y_validation_labels))"
   ]
  },
  {
   "cell_type": "code",
   "execution_count": 9,
   "metadata": {},
   "outputs": [
    {
     "name": "stdout",
     "output_type": "stream",
     "text": [
      "Test loss: 0.12902044094136653\n",
      "Test accuracy: 0.9734227657318115\n"
     ]
    }
   ],
   "source": [
    "score = model.evaluate(x_test_images, y_test_labels, verbose=0)\n",
    "print('Test loss:', score[0])\n",
    "print('Test accuracy:', score[1])"
   ]
  },
  {
   "cell_type": "code",
   "execution_count": null,
   "metadata": {},
   "outputs": [],
   "source": [
    "# save model : https://www.tensorflow.org/tutorials/keras/save_and_load\n",
    "\n",
    "# Save the entire model to a HDF5 file.\n",
    "# The '.h5' extension indicates that the model should be saved to HDF5.\n",
    "model.save('save/my_model.h5')"
   ]
  },
  {
   "cell_type": "code",
   "execution_count": null,
   "metadata": {},
   "outputs": [],
   "source": [
    "# THE END"
   ]
  }
 ],
 "metadata": {
  "kernelspec": {
   "display_name": "Python 3",
   "language": "python",
   "name": "python3"
  },
  "language_info": {
   "codemirror_mode": {
    "name": "ipython",
    "version": 3
   },
   "file_extension": ".py",
   "mimetype": "text/x-python",
   "name": "python",
   "nbconvert_exporter": "python",
   "pygments_lexer": "ipython3",
   "version": "3.6.8"
  }
 },
 "nbformat": 4,
 "nbformat_minor": 2
}
